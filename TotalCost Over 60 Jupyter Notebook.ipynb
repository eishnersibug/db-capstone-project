{
 "cells": [
  {
   "cell_type": "code",
   "execution_count": 94,
   "id": "e59eed3c",
   "metadata": {},
   "outputs": [
    {
     "name": "stderr",
     "output_type": "stream",
     "text": [
      "ERROR: unknown command \"intall\" - maybe you meant \"install\"\n",
      "\n"
     ]
    }
   ],
   "source": [
    "!pip intall mysql-connector-python"
   ]
  },
  {
   "cell_type": "code",
   "execution_count": 95,
   "id": "dfca0c56",
   "metadata": {},
   "outputs": [],
   "source": [
    "import mysql.connector as connector"
   ]
  },
  {
   "cell_type": "code",
   "execution_count": 96,
   "id": "d72a3942",
   "metadata": {},
   "outputs": [],
   "source": [
    "connection = connector.connect(user = \"root\", password = \"Iamwhoiam14\")"
   ]
  },
  {
   "cell_type": "code",
   "execution_count": 97,
   "id": "2568bd54",
   "metadata": {},
   "outputs": [],
   "source": [
    "connection = connector.connect(user = \"root\", password = \"Iamwhoiam14\", db = \"db-capstone-project-sql\") "
   ]
  },
  {
   "cell_type": "code",
   "execution_count": 98,
   "id": "9e1a8186",
   "metadata": {},
   "outputs": [],
   "source": [
    "cursor=connection.cursor()"
   ]
  },
  {
   "cell_type": "code",
   "execution_count": 99,
   "id": "f51213b0",
   "metadata": {},
   "outputs": [],
   "source": [
    "show_tables_query = \"SHOW tables\" \n",
    "results=cursor.execute(show_tables_query)"
   ]
  },
  {
   "cell_type": "code",
   "execution_count": 100,
   "id": "97a47588",
   "metadata": {},
   "outputs": [
    {
     "name": "stdout",
     "output_type": "stream",
     "text": [
      "bookings\n",
      "customerdetails\n",
      "menuitems\n",
      "menus\n",
      "orderdeliverystatus\n",
      "orders\n",
      "ordersview\n"
     ]
    }
   ],
   "source": [
    "tables = cursor.fetchall()\n",
    "for table in tables:\n",
    "    print(table[0])"
   ]
  },
  {
   "cell_type": "code",
   "execution_count": 101,
   "id": "3d9e1e9d",
   "metadata": {},
   "outputs": [],
   "source": [
    "customer_join_query = '''\n",
    "        SELECT\n",
    "        CONCAT(customerdetails.FirstName, ' ' ,customerdetails.LastName) AS FullName,\n",
    "        customerdetails.ContactNo AS ContactNumber,\n",
    "        customerdetails.email,\n",
    "        orders.TotalCost\n",
    "        FROM orders\n",
    "        JOIN customerdetails ON orders.CustomerID = customerdetails.CustomerID\n",
    "        WHERE orders.TotalCost > 60\n",
    "        ORDER BY orders.TotalCost DESC;\n",
    "'''"
   ]
  },
  {
   "cell_type": "code",
   "execution_count": 102,
   "id": "cbf2833e",
   "metadata": {},
   "outputs": [],
   "source": [
    "cursor.execute(customer_join_query)"
   ]
  },
  {
   "cell_type": "code",
   "execution_count": 103,
   "id": "cece7191",
   "metadata": {},
   "outputs": [],
   "source": [
    "customers = cursor.fetchall()"
   ]
  },
  {
   "cell_type": "code",
   "execution_count": 104,
   "id": "3fe483b7",
   "metadata": {},
   "outputs": [
    {
     "name": "stdout",
     "output_type": "stream",
     "text": [
      "There are 3 customers with more than $60 of spending: \n",
      "\n",
      "==================================================\n",
      "Full Name: \t Michael Winn\n",
      "Phone Number: \t 5514568922\n",
      "Email: \t\t mikeinn@gmail.com\n",
      "Has spent: \t 275.0\n",
      "==================================================\n",
      "Full Name: \t Edwin Smith\n",
      "Phone Number: \t 2018980092\n",
      "Email: \t\t esmith@gmail.com\n",
      "Has spent: \t 200.0\n",
      "==================================================\n",
      "Full Name: \t Froiland Gerne\n",
      "Phone Number: \t 2017865499\n",
      "Email: \t\t friog@gmail.com\n",
      "Has spent: \t 75.0\n"
     ]
    }
   ],
   "source": [
    "print(f'There are {len(customers)} customers with more than $60 of spending: \\n')\n",
    "\n",
    "for customer in customers[:5]:\n",
    "    print('=' * 50)\n",
    "    print(f'Full Name: \\t {customer[0]}')\n",
    "    print(f'Phone Number: \\t {customer[1]}')\n",
    "    print(f'Email: \\t\\t {customer[2]}')\n",
    "    print(f'Has spent: \\t {float(customer[3])}')"
   ]
  },
  {
   "cell_type": "code",
   "execution_count": null,
   "id": "3f23629f",
   "metadata": {},
   "outputs": [],
   "source": []
  }
 ],
 "metadata": {
  "kernelspec": {
   "display_name": "Python 3",
   "language": "python",
   "name": "python3"
  },
  "language_info": {
   "codemirror_mode": {
    "name": "ipython",
    "version": 3
   },
   "file_extension": ".py",
   "mimetype": "text/x-python",
   "name": "python",
   "nbconvert_exporter": "python",
   "pygments_lexer": "ipython3",
   "version": "3.11.7"
  }
 },
 "nbformat": 4,
 "nbformat_minor": 5
}
